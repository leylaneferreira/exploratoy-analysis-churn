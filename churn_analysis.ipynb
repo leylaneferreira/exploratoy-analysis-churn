{
  "nbformat": 4,
  "nbformat_minor": 0,
  "metadata": {
    "colab": {
      "provenance": []
    },
    "kernelspec": {
      "name": "python3",
      "display_name": "Python 3"
    },
    "language_info": {
      "name": "python"
    }
  },
  "cells": [
    {
      "cell_type": "code",
      "execution_count": 1,
      "metadata": {
        "colab": {
          "base_uri": "https://localhost:8080/"
        },
        "id": "ZJtxALZooeF8",
        "outputId": "417f401a-a1e8-4bee-bf2f-3b0771678fcc"
      },
      "outputs": [
        {
          "output_type": "stream",
          "name": "stdout",
          "text": [
            "Mounted at /gdrive\n"
          ]
        }
      ],
      "source": [
        "import pandas as pd\n",
        "import numpy as np\n",
        "from scipy import stats\n",
        "import math\n",
        "from matplotlib import pyplot as plt\n",
        "from google.colab import drive\n",
        "drive.mount('/gdrive', force_remount=True)\n",
        "\n",
        "path=\"/gdrive/My Drive/desafio A3Data/Customer-Churn-Customer-Churn.csv\""
      ]
    },
    {
      "cell_type": "code",
      "source": [
        "df = pd.read_csv(path)\n",
        "df.head(5)"
      ],
      "metadata": {
        "colab": {
          "base_uri": "https://localhost:8080/",
          "height": 342
        },
        "id": "naj2IWdUpeqa",
        "outputId": "f76754aa-3759-4a2a-eca5-c2bdf4c652e7"
      },
      "execution_count": 2,
      "outputs": [
        {
          "output_type": "execute_result",
          "data": {
            "text/plain": [
              "   customerID  gender  SeniorCitizen Partner Dependents  tenure PhoneService  \\\n",
              "0  7569-NMZYQ  Female              0     Yes        Yes      72          Yes   \n",
              "1  8984-HPEMB  Female              0      No         No      71          Yes   \n",
              "2  5989-AXPUC  Female              0     Yes         No      68          Yes   \n",
              "3  5734-EJKXG  Female              0      No         No      61          Yes   \n",
              "4  8199-ZLLSA    Male              0      No         No      67          Yes   \n",
              "\n",
              "  MultipleLines InternetService OnlineSecurity  ... DeviceProtection  \\\n",
              "0           Yes     Fiber optic            Yes  ...              Yes   \n",
              "1           Yes     Fiber optic            Yes  ...              Yes   \n",
              "2           Yes     Fiber optic            Yes  ...              Yes   \n",
              "3           Yes     Fiber optic            Yes  ...              Yes   \n",
              "4           Yes     Fiber optic            Yes  ...              Yes   \n",
              "\n",
              "  TechSupport StreamingTV StreamingMovies  Contract PaperlessBilling  \\\n",
              "0         Yes         Yes             Yes  Two year              Yes   \n",
              "1         Yes         Yes             Yes  Two year              Yes   \n",
              "2         Yes         Yes             Yes  Two year               No   \n",
              "3         Yes         Yes             Yes  One year              Yes   \n",
              "4         Yes         Yes             Yes  One year              Yes   \n",
              "\n",
              "               PaymentMethod MonthlyCharges TotalCharges Churn  \n",
              "0  Bank transfer (automatic)         118,75      8672,45    No  \n",
              "1           Electronic check         118,65       8477,6    No  \n",
              "2               Mailed check          118,6      7990,05    No  \n",
              "3           Electronic check          118,6       7365,7    No  \n",
              "4  Bank transfer (automatic)         118,35      7804,15   Yes  \n",
              "\n",
              "[5 rows x 21 columns]"
            ],
            "text/html": [
              "\n",
              "  <div id=\"df-4883fe63-e1d0-442c-902e-19816c74aa69\" class=\"colab-df-container\">\n",
              "    <div>\n",
              "<style scoped>\n",
              "    .dataframe tbody tr th:only-of-type {\n",
              "        vertical-align: middle;\n",
              "    }\n",
              "\n",
              "    .dataframe tbody tr th {\n",
              "        vertical-align: top;\n",
              "    }\n",
              "\n",
              "    .dataframe thead th {\n",
              "        text-align: right;\n",
              "    }\n",
              "</style>\n",
              "<table border=\"1\" class=\"dataframe\">\n",
              "  <thead>\n",
              "    <tr style=\"text-align: right;\">\n",
              "      <th></th>\n",
              "      <th>customerID</th>\n",
              "      <th>gender</th>\n",
              "      <th>SeniorCitizen</th>\n",
              "      <th>Partner</th>\n",
              "      <th>Dependents</th>\n",
              "      <th>tenure</th>\n",
              "      <th>PhoneService</th>\n",
              "      <th>MultipleLines</th>\n",
              "      <th>InternetService</th>\n",
              "      <th>OnlineSecurity</th>\n",
              "      <th>...</th>\n",
              "      <th>DeviceProtection</th>\n",
              "      <th>TechSupport</th>\n",
              "      <th>StreamingTV</th>\n",
              "      <th>StreamingMovies</th>\n",
              "      <th>Contract</th>\n",
              "      <th>PaperlessBilling</th>\n",
              "      <th>PaymentMethod</th>\n",
              "      <th>MonthlyCharges</th>\n",
              "      <th>TotalCharges</th>\n",
              "      <th>Churn</th>\n",
              "    </tr>\n",
              "  </thead>\n",
              "  <tbody>\n",
              "    <tr>\n",
              "      <th>0</th>\n",
              "      <td>7569-NMZYQ</td>\n",
              "      <td>Female</td>\n",
              "      <td>0</td>\n",
              "      <td>Yes</td>\n",
              "      <td>Yes</td>\n",
              "      <td>72</td>\n",
              "      <td>Yes</td>\n",
              "      <td>Yes</td>\n",
              "      <td>Fiber optic</td>\n",
              "      <td>Yes</td>\n",
              "      <td>...</td>\n",
              "      <td>Yes</td>\n",
              "      <td>Yes</td>\n",
              "      <td>Yes</td>\n",
              "      <td>Yes</td>\n",
              "      <td>Two year</td>\n",
              "      <td>Yes</td>\n",
              "      <td>Bank transfer (automatic)</td>\n",
              "      <td>118,75</td>\n",
              "      <td>8672,45</td>\n",
              "      <td>No</td>\n",
              "    </tr>\n",
              "    <tr>\n",
              "      <th>1</th>\n",
              "      <td>8984-HPEMB</td>\n",
              "      <td>Female</td>\n",
              "      <td>0</td>\n",
              "      <td>No</td>\n",
              "      <td>No</td>\n",
              "      <td>71</td>\n",
              "      <td>Yes</td>\n",
              "      <td>Yes</td>\n",
              "      <td>Fiber optic</td>\n",
              "      <td>Yes</td>\n",
              "      <td>...</td>\n",
              "      <td>Yes</td>\n",
              "      <td>Yes</td>\n",
              "      <td>Yes</td>\n",
              "      <td>Yes</td>\n",
              "      <td>Two year</td>\n",
              "      <td>Yes</td>\n",
              "      <td>Electronic check</td>\n",
              "      <td>118,65</td>\n",
              "      <td>8477,6</td>\n",
              "      <td>No</td>\n",
              "    </tr>\n",
              "    <tr>\n",
              "      <th>2</th>\n",
              "      <td>5989-AXPUC</td>\n",
              "      <td>Female</td>\n",
              "      <td>0</td>\n",
              "      <td>Yes</td>\n",
              "      <td>No</td>\n",
              "      <td>68</td>\n",
              "      <td>Yes</td>\n",
              "      <td>Yes</td>\n",
              "      <td>Fiber optic</td>\n",
              "      <td>Yes</td>\n",
              "      <td>...</td>\n",
              "      <td>Yes</td>\n",
              "      <td>Yes</td>\n",
              "      <td>Yes</td>\n",
              "      <td>Yes</td>\n",
              "      <td>Two year</td>\n",
              "      <td>No</td>\n",
              "      <td>Mailed check</td>\n",
              "      <td>118,6</td>\n",
              "      <td>7990,05</td>\n",
              "      <td>No</td>\n",
              "    </tr>\n",
              "    <tr>\n",
              "      <th>3</th>\n",
              "      <td>5734-EJKXG</td>\n",
              "      <td>Female</td>\n",
              "      <td>0</td>\n",
              "      <td>No</td>\n",
              "      <td>No</td>\n",
              "      <td>61</td>\n",
              "      <td>Yes</td>\n",
              "      <td>Yes</td>\n",
              "      <td>Fiber optic</td>\n",
              "      <td>Yes</td>\n",
              "      <td>...</td>\n",
              "      <td>Yes</td>\n",
              "      <td>Yes</td>\n",
              "      <td>Yes</td>\n",
              "      <td>Yes</td>\n",
              "      <td>One year</td>\n",
              "      <td>Yes</td>\n",
              "      <td>Electronic check</td>\n",
              "      <td>118,6</td>\n",
              "      <td>7365,7</td>\n",
              "      <td>No</td>\n",
              "    </tr>\n",
              "    <tr>\n",
              "      <th>4</th>\n",
              "      <td>8199-ZLLSA</td>\n",
              "      <td>Male</td>\n",
              "      <td>0</td>\n",
              "      <td>No</td>\n",
              "      <td>No</td>\n",
              "      <td>67</td>\n",
              "      <td>Yes</td>\n",
              "      <td>Yes</td>\n",
              "      <td>Fiber optic</td>\n",
              "      <td>Yes</td>\n",
              "      <td>...</td>\n",
              "      <td>Yes</td>\n",
              "      <td>Yes</td>\n",
              "      <td>Yes</td>\n",
              "      <td>Yes</td>\n",
              "      <td>One year</td>\n",
              "      <td>Yes</td>\n",
              "      <td>Bank transfer (automatic)</td>\n",
              "      <td>118,35</td>\n",
              "      <td>7804,15</td>\n",
              "      <td>Yes</td>\n",
              "    </tr>\n",
              "  </tbody>\n",
              "</table>\n",
              "<p>5 rows × 21 columns</p>\n",
              "</div>\n",
              "    <div class=\"colab-df-buttons\">\n",
              "\n",
              "  <div class=\"colab-df-container\">\n",
              "    <button class=\"colab-df-convert\" onclick=\"convertToInteractive('df-4883fe63-e1d0-442c-902e-19816c74aa69')\"\n",
              "            title=\"Convert this dataframe to an interactive table.\"\n",
              "            style=\"display:none;\">\n",
              "\n",
              "  <svg xmlns=\"http://www.w3.org/2000/svg\" height=\"24px\" viewBox=\"0 -960 960 960\">\n",
              "    <path d=\"M120-120v-720h720v720H120Zm60-500h600v-160H180v160Zm220 220h160v-160H400v160Zm0 220h160v-160H400v160ZM180-400h160v-160H180v160Zm440 0h160v-160H620v160ZM180-180h160v-160H180v160Zm440 0h160v-160H620v160Z\"/>\n",
              "  </svg>\n",
              "    </button>\n",
              "\n",
              "  <style>\n",
              "    .colab-df-container {\n",
              "      display:flex;\n",
              "      gap: 12px;\n",
              "    }\n",
              "\n",
              "    .colab-df-convert {\n",
              "      background-color: #E8F0FE;\n",
              "      border: none;\n",
              "      border-radius: 50%;\n",
              "      cursor: pointer;\n",
              "      display: none;\n",
              "      fill: #1967D2;\n",
              "      height: 32px;\n",
              "      padding: 0 0 0 0;\n",
              "      width: 32px;\n",
              "    }\n",
              "\n",
              "    .colab-df-convert:hover {\n",
              "      background-color: #E2EBFA;\n",
              "      box-shadow: 0px 1px 2px rgba(60, 64, 67, 0.3), 0px 1px 3px 1px rgba(60, 64, 67, 0.15);\n",
              "      fill: #174EA6;\n",
              "    }\n",
              "\n",
              "    .colab-df-buttons div {\n",
              "      margin-bottom: 4px;\n",
              "    }\n",
              "\n",
              "    [theme=dark] .colab-df-convert {\n",
              "      background-color: #3B4455;\n",
              "      fill: #D2E3FC;\n",
              "    }\n",
              "\n",
              "    [theme=dark] .colab-df-convert:hover {\n",
              "      background-color: #434B5C;\n",
              "      box-shadow: 0px 1px 3px 1px rgba(0, 0, 0, 0.15);\n",
              "      filter: drop-shadow(0px 1px 2px rgba(0, 0, 0, 0.3));\n",
              "      fill: #FFFFFF;\n",
              "    }\n",
              "  </style>\n",
              "\n",
              "    <script>\n",
              "      const buttonEl =\n",
              "        document.querySelector('#df-4883fe63-e1d0-442c-902e-19816c74aa69 button.colab-df-convert');\n",
              "      buttonEl.style.display =\n",
              "        google.colab.kernel.accessAllowed ? 'block' : 'none';\n",
              "\n",
              "      async function convertToInteractive(key) {\n",
              "        const element = document.querySelector('#df-4883fe63-e1d0-442c-902e-19816c74aa69');\n",
              "        const dataTable =\n",
              "          await google.colab.kernel.invokeFunction('convertToInteractive',\n",
              "                                                    [key], {});\n",
              "        if (!dataTable) return;\n",
              "\n",
              "        const docLinkHtml = 'Like what you see? Visit the ' +\n",
              "          '<a target=\"_blank\" href=https://colab.research.google.com/notebooks/data_table.ipynb>data table notebook</a>'\n",
              "          + ' to learn more about interactive tables.';\n",
              "        element.innerHTML = '';\n",
              "        dataTable['output_type'] = 'display_data';\n",
              "        await google.colab.output.renderOutput(dataTable, element);\n",
              "        const docLink = document.createElement('div');\n",
              "        docLink.innerHTML = docLinkHtml;\n",
              "        element.appendChild(docLink);\n",
              "      }\n",
              "    </script>\n",
              "  </div>\n",
              "\n",
              "\n",
              "<div id=\"df-6e1bdb7e-dc2a-4868-b5c9-418f0d787ace\">\n",
              "  <button class=\"colab-df-quickchart\" onclick=\"quickchart('df-6e1bdb7e-dc2a-4868-b5c9-418f0d787ace')\"\n",
              "            title=\"Suggest charts\"\n",
              "            style=\"display:none;\">\n",
              "\n",
              "<svg xmlns=\"http://www.w3.org/2000/svg\" height=\"24px\"viewBox=\"0 0 24 24\"\n",
              "     width=\"24px\">\n",
              "    <g>\n",
              "        <path d=\"M19 3H5c-1.1 0-2 .9-2 2v14c0 1.1.9 2 2 2h14c1.1 0 2-.9 2-2V5c0-1.1-.9-2-2-2zM9 17H7v-7h2v7zm4 0h-2V7h2v10zm4 0h-2v-4h2v4z\"/>\n",
              "    </g>\n",
              "</svg>\n",
              "  </button>\n",
              "\n",
              "<style>\n",
              "  .colab-df-quickchart {\n",
              "      --bg-color: #E8F0FE;\n",
              "      --fill-color: #1967D2;\n",
              "      --hover-bg-color: #E2EBFA;\n",
              "      --hover-fill-color: #174EA6;\n",
              "      --disabled-fill-color: #AAA;\n",
              "      --disabled-bg-color: #DDD;\n",
              "  }\n",
              "\n",
              "  [theme=dark] .colab-df-quickchart {\n",
              "      --bg-color: #3B4455;\n",
              "      --fill-color: #D2E3FC;\n",
              "      --hover-bg-color: #434B5C;\n",
              "      --hover-fill-color: #FFFFFF;\n",
              "      --disabled-bg-color: #3B4455;\n",
              "      --disabled-fill-color: #666;\n",
              "  }\n",
              "\n",
              "  .colab-df-quickchart {\n",
              "    background-color: var(--bg-color);\n",
              "    border: none;\n",
              "    border-radius: 50%;\n",
              "    cursor: pointer;\n",
              "    display: none;\n",
              "    fill: var(--fill-color);\n",
              "    height: 32px;\n",
              "    padding: 0;\n",
              "    width: 32px;\n",
              "  }\n",
              "\n",
              "  .colab-df-quickchart:hover {\n",
              "    background-color: var(--hover-bg-color);\n",
              "    box-shadow: 0 1px 2px rgba(60, 64, 67, 0.3), 0 1px 3px 1px rgba(60, 64, 67, 0.15);\n",
              "    fill: var(--button-hover-fill-color);\n",
              "  }\n",
              "\n",
              "  .colab-df-quickchart-complete:disabled,\n",
              "  .colab-df-quickchart-complete:disabled:hover {\n",
              "    background-color: var(--disabled-bg-color);\n",
              "    fill: var(--disabled-fill-color);\n",
              "    box-shadow: none;\n",
              "  }\n",
              "\n",
              "  .colab-df-spinner {\n",
              "    border: 2px solid var(--fill-color);\n",
              "    border-color: transparent;\n",
              "    border-bottom-color: var(--fill-color);\n",
              "    animation:\n",
              "      spin 1s steps(1) infinite;\n",
              "  }\n",
              "\n",
              "  @keyframes spin {\n",
              "    0% {\n",
              "      border-color: transparent;\n",
              "      border-bottom-color: var(--fill-color);\n",
              "      border-left-color: var(--fill-color);\n",
              "    }\n",
              "    20% {\n",
              "      border-color: transparent;\n",
              "      border-left-color: var(--fill-color);\n",
              "      border-top-color: var(--fill-color);\n",
              "    }\n",
              "    30% {\n",
              "      border-color: transparent;\n",
              "      border-left-color: var(--fill-color);\n",
              "      border-top-color: var(--fill-color);\n",
              "      border-right-color: var(--fill-color);\n",
              "    }\n",
              "    40% {\n",
              "      border-color: transparent;\n",
              "      border-right-color: var(--fill-color);\n",
              "      border-top-color: var(--fill-color);\n",
              "    }\n",
              "    60% {\n",
              "      border-color: transparent;\n",
              "      border-right-color: var(--fill-color);\n",
              "    }\n",
              "    80% {\n",
              "      border-color: transparent;\n",
              "      border-right-color: var(--fill-color);\n",
              "      border-bottom-color: var(--fill-color);\n",
              "    }\n",
              "    90% {\n",
              "      border-color: transparent;\n",
              "      border-bottom-color: var(--fill-color);\n",
              "    }\n",
              "  }\n",
              "</style>\n",
              "\n",
              "  <script>\n",
              "    async function quickchart(key) {\n",
              "      const quickchartButtonEl =\n",
              "        document.querySelector('#' + key + ' button');\n",
              "      quickchartButtonEl.disabled = true;  // To prevent multiple clicks.\n",
              "      quickchartButtonEl.classList.add('colab-df-spinner');\n",
              "      try {\n",
              "        const charts = await google.colab.kernel.invokeFunction(\n",
              "            'suggestCharts', [key], {});\n",
              "      } catch (error) {\n",
              "        console.error('Error during call to suggestCharts:', error);\n",
              "      }\n",
              "      quickchartButtonEl.classList.remove('colab-df-spinner');\n",
              "      quickchartButtonEl.classList.add('colab-df-quickchart-complete');\n",
              "    }\n",
              "    (() => {\n",
              "      let quickchartButtonEl =\n",
              "        document.querySelector('#df-6e1bdb7e-dc2a-4868-b5c9-418f0d787ace button');\n",
              "      quickchartButtonEl.style.display =\n",
              "        google.colab.kernel.accessAllowed ? 'block' : 'none';\n",
              "    })();\n",
              "  </script>\n",
              "</div>\n",
              "\n",
              "    </div>\n",
              "  </div>\n"
            ],
            "application/vnd.google.colaboratory.intrinsic+json": {
              "type": "dataframe",
              "variable_name": "df"
            }
          },
          "metadata": {},
          "execution_count": 2
        }
      ]
    },
    {
      "cell_type": "code",
      "source": [
        "df.dtypes"
      ],
      "metadata": {
        "colab": {
          "base_uri": "https://localhost:8080/"
        },
        "collapsed": true,
        "id": "W-CMqGalqKqb",
        "outputId": "67782579-351f-4a0e-fd8d-d94089487ab2"
      },
      "execution_count": null,
      "outputs": [
        {
          "output_type": "execute_result",
          "data": {
            "text/plain": [
              "customerID          object\n",
              "gender              object\n",
              "SeniorCitizen        int64\n",
              "Partner             object\n",
              "Dependents          object\n",
              "tenure               int64\n",
              "PhoneService        object\n",
              "MultipleLines       object\n",
              "InternetService     object\n",
              "OnlineSecurity      object\n",
              "OnlineBackup        object\n",
              "DeviceProtection    object\n",
              "TechSupport         object\n",
              "StreamingTV         object\n",
              "StreamingMovies     object\n",
              "Contract            object\n",
              "PaperlessBilling    object\n",
              "PaymentMethod       object\n",
              "MonthlyCharges      object\n",
              "TotalCharges        object\n",
              "Churn               object\n",
              "dtype: object"
            ]
          },
          "metadata": {},
          "execution_count": 3
        }
      ]
    },
    {
      "cell_type": "code",
      "source": [
        "df[\"TotalCharges\"] = df[\"TotalCharges\"].replace(\",\", \".\", regex=True).astype(float)\n",
        "df[\"MonthlyCharges\"] = df[\"MonthlyCharges\"].replace(\",\", \".\", regex=True).astype(float)\n",
        "df[\"tenure\"] = df[\"tenure\"].astype(float)"
      ],
      "metadata": {
        "id": "E7qigzN7UgVN"
      },
      "execution_count": 3,
      "outputs": []
    },
    {
      "cell_type": "code",
      "source": [
        "total_clients = df.Churn.count()\n",
        "total_clients"
      ],
      "metadata": {
        "colab": {
          "base_uri": "https://localhost:8080/"
        },
        "id": "TuR7rnqyFQt9",
        "outputId": "d8001b53-29bb-4919-9c7f-c5124ec8fca7"
      },
      "execution_count": 4,
      "outputs": [
        {
          "output_type": "execute_result",
          "data": {
            "text/plain": [
              "7043"
            ]
          },
          "metadata": {},
          "execution_count": 4
        }
      ]
    },
    {
      "cell_type": "code",
      "source": [
        "churn = df[df.Churn ==\"Yes\"]\n",
        "no_churn = df[df.Churn ==\"No\"]\n",
        "\n",
        "df.Churn.value_counts(normalize=True) * 100"
      ],
      "metadata": {
        "colab": {
          "base_uri": "https://localhost:8080/"
        },
        "id": "MsTVoPQ7hpk8",
        "outputId": "c160ee3d-8f32-4fda-952c-540fbe14333c"
      },
      "execution_count": 5,
      "outputs": [
        {
          "output_type": "execute_result",
          "data": {
            "text/plain": [
              "Churn\n",
              "No     73.463013\n",
              "Yes    26.536987\n",
              "Name: proportion, dtype: float64"
            ]
          },
          "metadata": {},
          "execution_count": 5
        }
      ]
    },
    {
      "cell_type": "code",
      "source": [
        "print(\"Montly charge analysis\")\n",
        "print(churn.MonthlyCharges.mean())\n",
        "print(no_churn.MonthlyCharges.mean())\n",
        "\n",
        "print(\"Total charge analysis\")\n",
        "print(churn.TotalCharges.mean())\n",
        "print(no_churn.TotalCharges.mean())"
      ],
      "metadata": {
        "colab": {
          "base_uri": "https://localhost:8080/"
        },
        "id": "DAjEhIyHl4aB",
        "outputId": "774ffc82-31b7-444b-8b63-514b85119a35"
      },
      "execution_count": 113,
      "outputs": [
        {
          "output_type": "stream",
          "name": "stdout",
          "text": [
            "Montly charge analysis\n",
            "74.44133226324237\n",
            "61.26512369540008\n",
            "Total charge analysis\n",
            "1531.7960941680044\n",
            "2555.344141003293\n"
          ]
        }
      ]
    },
    {
      "cell_type": "code",
      "source": [
        "total_churn = churn.SeniorCitizen.count()\n",
        "total_no_churn = no_churn.SeniorCitizen.count()"
      ],
      "metadata": {
        "id": "GcQ5Wym-jPOA"
      },
      "execution_count": 79,
      "outputs": []
    },
    {
      "cell_type": "code",
      "source": [
        "churn.SeniorCitizen.value_counts(normalize=True) * 100"
      ],
      "metadata": {
        "colab": {
          "base_uri": "https://localhost:8080/"
        },
        "id": "s5XHpRn9r2ea",
        "outputId": "394d8266-fb5d-431f-968f-de5bb331be8b"
      },
      "execution_count": 80,
      "outputs": [
        {
          "output_type": "execute_result",
          "data": {
            "text/plain": [
              "SeniorCitizen\n",
              "0    74.531835\n",
              "1    25.468165\n",
              "Name: proportion, dtype: float64"
            ]
          },
          "metadata": {},
          "execution_count": 80
        }
      ]
    },
    {
      "cell_type": "code",
      "source": [
        "print(no_churn.Dependents.value_counts(normalize=True) * 100)\n",
        "print(churn.Dependents.value_counts(normalize=True) * 100)"
      ],
      "metadata": {
        "colab": {
          "base_uri": "https://localhost:8080/"
        },
        "id": "Zxj0D4h-nCGb",
        "outputId": "7d581a73-9c03-41d0-d322-02a6376dc3d4"
      },
      "execution_count": 81,
      "outputs": [
        {
          "output_type": "stream",
          "name": "stdout",
          "text": [
            "Dependents\n",
            "No     65.519907\n",
            "Yes    34.480093\n",
            "Name: proportion, dtype: float64\n",
            "Dependents\n",
            "No     82.557517\n",
            "Yes    17.442483\n",
            "Name: proportion, dtype: float64\n"
          ]
        }
      ]
    },
    {
      "cell_type": "code",
      "source": [
        "print(\"Churn with partner\")\n",
        "print(churn.Partner.value_counts(normalize=True) * 100)\n",
        "\n",
        "print(\"No churn with partner\")\n",
        "print(no_churn.Partner.value_counts(normalize=True) * 100)"
      ],
      "metadata": {
        "colab": {
          "base_uri": "https://localhost:8080/"
        },
        "id": "N14O4M2H6epW",
        "outputId": "d61e5a5a-6e61-4b1a-fabd-261b09c4bc2f"
      },
      "execution_count": 82,
      "outputs": [
        {
          "output_type": "stream",
          "name": "stdout",
          "text": [
            "Churn with partner\n",
            "Partner\n",
            "No     64.205457\n",
            "Yes    35.794543\n",
            "Name: proportion, dtype: float64\n",
            "No churn with partner\n",
            "Partner\n",
            "Yes    52.821801\n",
            "No     47.178199\n",
            "Name: proportion, dtype: float64\n"
          ]
        }
      ]
    },
    {
      "cell_type": "code",
      "source": [
        "print(churn.Contract.value_counts(normalize=True) * 100)"
      ],
      "metadata": {
        "id": "sMSu53jJumX9",
        "outputId": "8eb51860-f4c5-471f-a308-3ae2217942e1",
        "colab": {
          "base_uri": "https://localhost:8080/"
        }
      },
      "execution_count": 83,
      "outputs": [
        {
          "output_type": "stream",
          "name": "stdout",
          "text": [
            "Contract\n",
            "Month-to-month    88.550027\n",
            "One year           8.881755\n",
            "Two year           2.568218\n",
            "Name: proportion, dtype: float64\n"
          ]
        }
      ]
    },
    {
      "cell_type": "code",
      "source": [
        "print(churn.PaymentMethod.value_counts(normalize=True) * 100)"
      ],
      "metadata": {
        "id": "MEtJREEsggVW",
        "outputId": "615645c3-0ae9-4bc8-be09-861ceb878b98",
        "colab": {
          "base_uri": "https://localhost:8080/"
        }
      },
      "execution_count": 84,
      "outputs": [
        {
          "output_type": "stream",
          "name": "stdout",
          "text": [
            "PaymentMethod\n",
            "Electronic check             57.303371\n",
            "Mailed check                 16.479401\n",
            "Bank transfer (automatic)    13.804173\n",
            "Credit card (automatic)      12.413055\n",
            "Name: proportion, dtype: float64\n"
          ]
        }
      ]
    },
    {
      "cell_type": "code",
      "source": [
        "print(churn.MultipleLines.value_counts(normalize=True) * 100)"
      ],
      "metadata": {
        "colab": {
          "base_uri": "https://localhost:8080/"
        },
        "id": "baz1vsxDf74j",
        "outputId": "a50dcd0b-09b7-4c5a-a490-4d1521a461ef"
      },
      "execution_count": 85,
      "outputs": [
        {
          "output_type": "stream",
          "name": "stdout",
          "text": [
            "MultipleLines\n",
            "Yes                 45.478866\n",
            "No                  45.425361\n",
            "No phone service     9.095773\n",
            "Name: proportion, dtype: float64\n"
          ]
        }
      ]
    },
    {
      "cell_type": "code",
      "source": [
        "print(churn.PhoneService.value_counts(normalize=True) * 100)"
      ],
      "metadata": {
        "colab": {
          "base_uri": "https://localhost:8080/"
        },
        "id": "qw71EKIjUjit",
        "outputId": "e12d9461-3666-43e3-de10-7ea64c554130"
      },
      "execution_count": 86,
      "outputs": [
        {
          "output_type": "stream",
          "name": "stdout",
          "text": [
            "PhoneService\n",
            "Yes    90.904227\n",
            "No      9.095773\n",
            "Name: proportion, dtype: float64\n"
          ]
        }
      ]
    },
    {
      "cell_type": "code",
      "source": [
        "print(churn.StreamingMovies.value_counts(normalize=True) * 100)\n",
        "print(churn.StreamingTV.value_counts(normalize=True) * 100)"
      ],
      "metadata": {
        "colab": {
          "base_uri": "https://localhost:8080/"
        },
        "id": "H8riyt-fUsu2",
        "outputId": "78d7531a-8917-443f-810e-113c074e63ae"
      },
      "execution_count": 87,
      "outputs": [
        {
          "output_type": "stream",
          "name": "stdout",
          "text": [
            "StreamingMovies\n",
            "No                     50.187266\n",
            "Yes                    43.766720\n",
            "No internet service     6.046014\n",
            "Name: proportion, dtype: float64\n",
            "StreamingTV\n",
            "No                     50.401284\n",
            "Yes                    43.552702\n",
            "No internet service     6.046014\n",
            "Name: proportion, dtype: float64\n"
          ]
        }
      ]
    },
    {
      "cell_type": "code",
      "source": [
        "churn.InternetService.value_counts(normalize=True) * 100"
      ],
      "metadata": {
        "colab": {
          "base_uri": "https://localhost:8080/"
        },
        "id": "hYEPt_7byHe8",
        "outputId": "90dba058-6c52-4ca3-86bd-7d49c0d0570e"
      },
      "execution_count": 88,
      "outputs": [
        {
          "output_type": "execute_result",
          "data": {
            "text/plain": [
              "InternetService\n",
              "Fiber optic    69.395399\n",
              "DSL            24.558587\n",
              "No              6.046014\n",
              "Name: proportion, dtype: float64"
            ]
          },
          "metadata": {},
          "execution_count": 88
        }
      ]
    },
    {
      "cell_type": "code",
      "source": [
        "#with phone service\n",
        "churn_phone_s = churn[churn.PhoneService == 'Yes']\n",
        "churn_phone_s.InternetService.value_counts(normalize=True) * 100"
      ],
      "metadata": {
        "colab": {
          "base_uri": "https://localhost:8080/"
        },
        "id": "_idmIV9fX2-7",
        "outputId": "eb8d9c99-5c18-4807-acb5-ac53adf8033a"
      },
      "execution_count": 89,
      "outputs": [
        {
          "output_type": "execute_result",
          "data": {
            "text/plain": [
              "InternetService\n",
              "Fiber optic    76.339023\n",
              "DSL            17.010006\n",
              "No              6.650971\n",
              "Name: proportion, dtype: float64"
            ]
          },
          "metadata": {},
          "execution_count": 89
        }
      ]
    },
    {
      "cell_type": "code",
      "source": [
        "#without phone service\n",
        "churn_no_phone = churn[churn.PhoneService == 'No']\n",
        "churn_no_phone.InternetService.value_counts(normalize=True) * 100"
      ],
      "metadata": {
        "colab": {
          "base_uri": "https://localhost:8080/"
        },
        "id": "b2SfUHsFYPur",
        "outputId": "bd741c38-94f0-41d2-d3e7-1fe3e4bda629"
      },
      "execution_count": 90,
      "outputs": [
        {
          "output_type": "execute_result",
          "data": {
            "text/plain": [
              "InternetService\n",
              "DSL    100.0\n",
              "Name: proportion, dtype: float64"
            ]
          },
          "metadata": {},
          "execution_count": 90
        }
      ]
    },
    {
      "cell_type": "code",
      "source": [
        "print(no_churn.StreamingMovies.value_counts(normalize=True) * 100)\n",
        "print(no_churn.StreamingTV.value_counts(normalize=True) * 100)"
      ],
      "metadata": {
        "colab": {
          "base_uri": "https://localhost:8080/"
        },
        "id": "q_kqjcBVV3Ce",
        "outputId": "9e5fdf17-67d3-461e-9823-39c197dc2216"
      },
      "execution_count": 91,
      "outputs": [
        {
          "output_type": "stream",
          "name": "stdout",
          "text": [
            "StreamingMovies\n",
            "Yes                    36.992656\n",
            "No                     35.697719\n",
            "No internet service    27.309625\n",
            "Name: proportion, dtype: float64\n",
            "StreamingTV\n",
            "Yes                    36.586780\n",
            "No                     36.103595\n",
            "No internet service    27.309625\n",
            "Name: proportion, dtype: float64\n"
          ]
        }
      ]
    },
    {
      "cell_type": "code",
      "source": [
        "churn.TechSupport.value_counts(normalize=True) * 100"
      ],
      "metadata": {
        "colab": {
          "base_uri": "https://localhost:8080/"
        },
        "id": "3NZEACO4bm3x",
        "outputId": "5ab590b5-e406-47a6-c8e8-bbacb2f6491a"
      },
      "execution_count": 92,
      "outputs": [
        {
          "output_type": "execute_result",
          "data": {
            "text/plain": [
              "TechSupport\n",
              "No                     77.367576\n",
              "Yes                    16.586410\n",
              "No internet service     6.046014\n",
              "Name: proportion, dtype: float64"
            ]
          },
          "metadata": {},
          "execution_count": 92
        }
      ]
    },
    {
      "cell_type": "code",
      "source": [
        "churn[\"SeniorCitizen\"] = churn[\"SeniorCitizen\"].replace(to_replace=[0, 1], value=[\"No\", \"Yes\"])\n",
        "churn[\"InternetService\"] = churn[\"InternetService\"].replace(to_replace=[\"Fiber optic\"], value=[\"Fiber\"])\n",
        "churn[\"Contract\"] = churn[\"Contract\"].replace(to_replace=[\"Month-to-month\", \"One year\", \"Two year\"], value=[\"M\", \"1Y\", \"2Y\"])\n",
        "\n",
        "no_churn[\"SeniorCitizen\"] = no_churn[\"SeniorCitizen\"].replace(to_replace=[0, 1], value=[\"No\", \"Yes\"])\n",
        "no_churn[\"InternetService\"] = no_churn[\"InternetService\"].replace(to_replace=[\"Fiber optic\"], value=[\"Fiber\"])\n",
        "no_churn[\"Contract\"] = no_churn[\"Contract\"].replace(to_replace=[\"Month-to-month\", \"One year\", \"Two year\"], value=[\"M\", \"1Y\", \"2Y\"])"
      ],
      "metadata": {
        "id": "51lRiy8iKxYR"
      },
      "execution_count": null,
      "outputs": []
    },
    {
      "cell_type": "code",
      "source": [
        "df_columns_only = churn[['SeniorCitizen', 'Partner', 'Dependents', 'PhoneService', 'InternetService',\n",
        "                            'Contract']]\n",
        "size = math.ceil(df_columns_only.shape[1]** (1/2))\n",
        "fig = plt.figure()\n",
        "\n",
        "for i, col in enumerate(df_columns_only.columns):\n",
        "    fig.add_subplot(size, size, i + 1)\n",
        "    df_columns_only[col].value_counts().plot(kind=\"bar\", ax=plt.gca(), title=col, rot=0)\n",
        "\n",
        "fig.tight_layout()"
      ],
      "metadata": {
        "colab": {
          "base_uri": "https://localhost:8080/",
          "height": 360
        },
        "id": "IMeQg-Mit9IW",
        "outputId": "18be543e-0506-4f50-f7c6-b0fa274ff5ab"
      },
      "execution_count": 11,
      "outputs": [
        {
          "output_type": "display_data",
          "data": {
            "text/plain": [
              "<Figure size 640x480 with 6 Axes>"
            ],
            "image/png": "[encoded data removed]"
          },
          "metadata": {}
        }
      ]
    },
    {
      "cell_type": "code",
      "source": [
        "df_columns_only = no_churn[['SeniorCitizen', 'Partner', 'Dependents', 'PhoneService', 'InternetService',\n",
        "                            'Contract']]\n",
        "size = math.ceil(df_columns_only.shape[1]** (1/2))\n",
        "fig = plt.figure()\n",
        "\n",
        "for i, col in enumerate(df_columns_only.columns):\n",
        "    fig.add_subplot(size, size, i + 1)\n",
        "    df_columns_only[col].value_counts().plot(kind=\"bar\", ax=plt.gca(), title=col, rot=0)\n",
        "\n",
        "fig.tight_layout()"
      ],
      "metadata": {
        "colab": {
          "base_uri": "https://localhost:8080/",
          "height": 360
        },
        "id": "gb5mBcQbxcNV",
        "outputId": "c3b74287-261b-4956-ac8f-a3f9526f5285"
      },
      "execution_count": 12,
      "outputs": [
        {
          "output_type": "display_data",
          "data": {
            "text/plain": [
              "<Figure size 640x480 with 6 Axes>"
            ],
            "image/png": "[encoded data removed]"
          },
          "metadata": {}
        }
      ]
    }
  ]
}